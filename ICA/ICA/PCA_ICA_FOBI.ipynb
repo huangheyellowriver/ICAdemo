{
 "cells": [
  {
   "cell_type": "markdown",
   "metadata": {
    "collapsed": true
   },
   "source": [
    "This is an [jupyter](http://jupyter.org) notebook.\n",
    "Lectures about Python, useful both for beginners and experts, can be found at http://scipy-lectures.github.io."
   ]
  },
  {
   "cell_type": "markdown",
   "metadata": {},
   "source": [
    "Open the notebook by (1) copying this file into a directory, (2) in that directory typing \n",
    "jupyter-notebook\n",
    "and (3) selecting the notebook.\n",
    "\n",
    "***\n",
    "Written By: **Shashwat Shukla**\n",
    "***\n",
    "\n",
    "In this tutorial we will learn how to solve the Cocktail Party Problem using Independent Component Analysis(ICA).\n",
    "We will first take a look at Principle Component Analysis(PCA). The limitations of PCA will naturally lead to an understanding of ICA does."
   ]
  },
  {
   "cell_type": "markdown",
   "metadata": {},
   "source": [
    "# Overview\n",
    "## The Cocktail Party Problem(CPP)"
   ]
  },
  {
   "cell_type": "markdown",
   "metadata": {},
   "source": [
    "So what is the Cocktail Party Problem? \n",
    "Imagine you are at a party where a lot of different conversations are happening in different parts of the room. As a listener in  the room, you are receiving sound from all of these conversations at the same time. And yet, as humans, we possess the ability to identify different threads of conversation and to focus on any conversation of our choice. How do we that? And how can program a computer to do that?\n",
    "So this is essentially the Cocktail Party Problem: Given **N** sources(conversations at the party for example), and some number of sound receivers, separate out the different signals. (We will talk about how many receivers we need later.)\n",
    "\n",
    "We need to make some mathematical assumptions and also phrase the problem more formally.\n",
    "\n",
    "So first of all, our signals here are the sounds coming from different sources. \n",
    "How are we recording this data? We simply record the amplitude of the sound at each instant. Recording the pressure amplitude is a convenient thing to do.\n",
    "\n",
    "We assume that the sound that any receiver records is a **linear combination** of sounds from the different sources. This is a reasonable assumption to make as pressure adds linearly. Each receiver will receive a different linear combination: If the first receiver is closer to a particular speaker than the second receiver, then the linear weight of this speaker will be proportionately higher for the first receiver.\n",
    "\n",
    "![Cocktail Party Problem](images/cocktail_1.png)\n",
    "\n",
    "\n",
    "We further assume that each source is **statistically independent** with respect to all the other sources. \n"
   ]
  }
 ],
 "metadata": {
  "anaconda-cloud": {},
  "kernelspec": {
   "display_name": "Python 3",
   "language": "python",
   "name": "python3"
  },
  "language_info": {
   "codemirror_mode": {
    "name": "ipython",
    "version": 3
   },
   "file_extension": ".py",
   "mimetype": "text/x-python",
   "name": "python",
   "nbconvert_exporter": "python",
   "pygments_lexer": "ipython3",
   "version": "3.6.13"
  }
 },
 "nbformat": 4,
 "nbformat_minor": 1
}